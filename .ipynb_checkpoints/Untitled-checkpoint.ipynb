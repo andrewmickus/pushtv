{
 "cells": [
  {
   "cell_type": "code",
   "execution_count": 38,
   "metadata": {
    "collapsed": false
   },
   "outputs": [],
   "source": [
    "from flask import Flask, render_template\n",
    "import boto3\n",
    "from random import choice\n",
    "\n",
    "s3_resource = boto3.resource('s3')"
   ]
  },
  {
   "cell_type": "code",
   "execution_count": 36,
   "metadata": {
    "collapsed": false
   },
   "outputs": [],
   "source": [
    "all_urls = []\n",
    "\n",
    "for bucket in s3_resource.buckets.all():\n",
    "    for obj in bucket.objects.filter(Prefix='tv1/'):\n",
    "        all_urls.append('https://pushtv.s3-us-west-2.amazonaws.com/'+ '{0}'.format(obj.key))"
   ]
  },
  {
   "cell_type": "code",
   "execution_count": 37,
   "metadata": {
    "collapsed": false
   },
   "outputs": [
    {
     "data": {
      "text/plain": [
       "['https://pushtv.s3-us-west-2.amazonaws.com/tv1/asian_box_default.jpeg',\n",
       " 'https://pushtv.s3-us-west-2.amazonaws.com/tv1/brixton.jpg',\n",
       " 'https://pushtv.s3-us-west-2.amazonaws.com/tv1/hollow_cow_ad.jpeg',\n",
       " 'https://pushtv.s3-us-west-2.amazonaws.com/tv1/panera_ad.jpeg',\n",
       " 'https://pushtv.s3-us-west-2.amazonaws.com/tv1/roam_burger_ad.jpg',\n",
       " 'https://pushtv.s3-us-west-2.amazonaws.com/tv1/tamashisf.jpg']"
      ]
     },
     "execution_count": 37,
     "metadata": {},
     "output_type": "execute_result"
    }
   ],
   "source": [
    "[url for url in all_urls if not url.endswith(\"/\")]"
   ]
  },
  {
   "cell_type": "code",
   "execution_count": null,
   "metadata": {
    "collapsed": true
   },
   "outputs": [],
   "source": []
  }
 ],
 "metadata": {
  "kernelspec": {
   "display_name": "Python 3",
   "language": "python",
   "name": "python3"
  },
  "language_info": {
   "codemirror_mode": {
    "name": "ipython",
    "version": 3
   },
   "file_extension": ".py",
   "mimetype": "text/x-python",
   "name": "python",
   "nbconvert_exporter": "python",
   "pygments_lexer": "ipython3",
   "version": "3.7.1"
  }
 },
 "nbformat": 4,
 "nbformat_minor": 2
}
